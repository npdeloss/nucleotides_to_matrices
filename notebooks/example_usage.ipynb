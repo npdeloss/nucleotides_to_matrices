{
 "cells": [
  {
   "cell_type": "markdown",
   "id": "271d9e20-3490-447b-b07d-6e3b7e0b4fb7",
   "metadata": {},
   "source": [
    "# Import key libraries\n",
    "The preferred library abbreviation is `n2m`."
   ]
  },
  {
   "cell_type": "code",
   "execution_count": 1,
   "id": "947fadd7-9bfc-40a5-9833-e0d2a8a47075",
   "metadata": {},
   "outputs": [],
   "source": [
    "import pandas as pd\n",
    "import numpy as np\n",
    "import nucleotides_to_matrices as n2m"
   ]
  },
  {
   "cell_type": "markdown",
   "id": "d2e84a26-cb5c-4787-9b8a-2d8aee8425b3",
   "metadata": {},
   "source": [
    "# View encodings\n",
    "Encodings follow IUPAC nucleotides codes, with some additions. Includes RNA codes U (Uracil), and special code I (Inosine). Includes gap and degenerate codes."
   ]
  },
  {
   "cell_type": "code",
   "execution_count": 2,
   "id": "d142f90b-f81b-4df0-b3ec-c252841fa861",
   "metadata": {},
   "outputs": [
    {
     "data": {
      "text/html": [
       "<div>\n",
       "<style scoped>\n",
       "    .dataframe tbody tr th:only-of-type {\n",
       "        vertical-align: middle;\n",
       "    }\n",
       "\n",
       "    .dataframe tbody tr th {\n",
       "        vertical-align: top;\n",
       "    }\n",
       "\n",
       "    .dataframe thead th {\n",
       "        text-align: right;\n",
       "    }\n",
       "</style>\n",
       "<table border=\"1\" class=\"dataframe\">\n",
       "  <thead>\n",
       "    <tr style=\"text-align: right;\">\n",
       "      <th></th>\n",
       "      <th>Code</th>\n",
       "      <th>Name</th>\n",
       "      <th>DNA</th>\n",
       "      <th>RNA</th>\n",
       "      <th>Special</th>\n",
       "      <th>Degenerate</th>\n",
       "      <th>Matches</th>\n",
       "      <th>A</th>\n",
       "      <th>C</th>\n",
       "      <th>G</th>\n",
       "      <th>T</th>\n",
       "    </tr>\n",
       "  </thead>\n",
       "  <tbody>\n",
       "    <tr>\n",
       "      <th>0</th>\n",
       "      <td>A</td>\n",
       "      <td>Adenine</td>\n",
       "      <td>True</td>\n",
       "      <td>True</td>\n",
       "      <td>False</td>\n",
       "      <td>False</td>\n",
       "      <td>A</td>\n",
       "      <td>1</td>\n",
       "      <td>0</td>\n",
       "      <td>0</td>\n",
       "      <td>0</td>\n",
       "    </tr>\n",
       "    <tr>\n",
       "      <th>1</th>\n",
       "      <td>C</td>\n",
       "      <td>Cytosine</td>\n",
       "      <td>True</td>\n",
       "      <td>True</td>\n",
       "      <td>False</td>\n",
       "      <td>False</td>\n",
       "      <td>C</td>\n",
       "      <td>0</td>\n",
       "      <td>1</td>\n",
       "      <td>0</td>\n",
       "      <td>0</td>\n",
       "    </tr>\n",
       "    <tr>\n",
       "      <th>2</th>\n",
       "      <td>G</td>\n",
       "      <td>Guanine</td>\n",
       "      <td>True</td>\n",
       "      <td>True</td>\n",
       "      <td>False</td>\n",
       "      <td>False</td>\n",
       "      <td>G</td>\n",
       "      <td>0</td>\n",
       "      <td>0</td>\n",
       "      <td>1</td>\n",
       "      <td>0</td>\n",
       "    </tr>\n",
       "    <tr>\n",
       "      <th>3</th>\n",
       "      <td>T</td>\n",
       "      <td>Thymine</td>\n",
       "      <td>True</td>\n",
       "      <td>False</td>\n",
       "      <td>False</td>\n",
       "      <td>False</td>\n",
       "      <td>T</td>\n",
       "      <td>0</td>\n",
       "      <td>0</td>\n",
       "      <td>0</td>\n",
       "      <td>1</td>\n",
       "    </tr>\n",
       "    <tr>\n",
       "      <th>4</th>\n",
       "      <td>W</td>\n",
       "      <td>Weak</td>\n",
       "      <td>True</td>\n",
       "      <td>True</td>\n",
       "      <td>False</td>\n",
       "      <td>True</td>\n",
       "      <td>A/T</td>\n",
       "      <td>1</td>\n",
       "      <td>0</td>\n",
       "      <td>0</td>\n",
       "      <td>1</td>\n",
       "    </tr>\n",
       "    <tr>\n",
       "      <th>5</th>\n",
       "      <td>S</td>\n",
       "      <td>Strong</td>\n",
       "      <td>True</td>\n",
       "      <td>True</td>\n",
       "      <td>False</td>\n",
       "      <td>True</td>\n",
       "      <td>C/G</td>\n",
       "      <td>0</td>\n",
       "      <td>1</td>\n",
       "      <td>1</td>\n",
       "      <td>0</td>\n",
       "    </tr>\n",
       "    <tr>\n",
       "      <th>6</th>\n",
       "      <td>M</td>\n",
       "      <td>Amino</td>\n",
       "      <td>True</td>\n",
       "      <td>True</td>\n",
       "      <td>False</td>\n",
       "      <td>True</td>\n",
       "      <td>A/C</td>\n",
       "      <td>1</td>\n",
       "      <td>1</td>\n",
       "      <td>0</td>\n",
       "      <td>0</td>\n",
       "    </tr>\n",
       "    <tr>\n",
       "      <th>7</th>\n",
       "      <td>K</td>\n",
       "      <td>Keto</td>\n",
       "      <td>True</td>\n",
       "      <td>True</td>\n",
       "      <td>False</td>\n",
       "      <td>True</td>\n",
       "      <td>G/T</td>\n",
       "      <td>0</td>\n",
       "      <td>0</td>\n",
       "      <td>1</td>\n",
       "      <td>1</td>\n",
       "    </tr>\n",
       "    <tr>\n",
       "      <th>8</th>\n",
       "      <td>R</td>\n",
       "      <td>Purine</td>\n",
       "      <td>True</td>\n",
       "      <td>True</td>\n",
       "      <td>False</td>\n",
       "      <td>True</td>\n",
       "      <td>A/G</td>\n",
       "      <td>1</td>\n",
       "      <td>0</td>\n",
       "      <td>1</td>\n",
       "      <td>0</td>\n",
       "    </tr>\n",
       "    <tr>\n",
       "      <th>9</th>\n",
       "      <td>Y</td>\n",
       "      <td>Pyrimidine</td>\n",
       "      <td>True</td>\n",
       "      <td>True</td>\n",
       "      <td>False</td>\n",
       "      <td>True</td>\n",
       "      <td>C/T</td>\n",
       "      <td>0</td>\n",
       "      <td>1</td>\n",
       "      <td>0</td>\n",
       "      <td>1</td>\n",
       "    </tr>\n",
       "    <tr>\n",
       "      <th>10</th>\n",
       "      <td>B</td>\n",
       "      <td>Not A</td>\n",
       "      <td>True</td>\n",
       "      <td>True</td>\n",
       "      <td>False</td>\n",
       "      <td>True</td>\n",
       "      <td>C/G/T</td>\n",
       "      <td>0</td>\n",
       "      <td>1</td>\n",
       "      <td>1</td>\n",
       "      <td>1</td>\n",
       "    </tr>\n",
       "    <tr>\n",
       "      <th>11</th>\n",
       "      <td>D</td>\n",
       "      <td>Not C</td>\n",
       "      <td>True</td>\n",
       "      <td>True</td>\n",
       "      <td>False</td>\n",
       "      <td>True</td>\n",
       "      <td>A/G/T</td>\n",
       "      <td>1</td>\n",
       "      <td>0</td>\n",
       "      <td>1</td>\n",
       "      <td>1</td>\n",
       "    </tr>\n",
       "    <tr>\n",
       "      <th>12</th>\n",
       "      <td>H</td>\n",
       "      <td>Not G</td>\n",
       "      <td>True</td>\n",
       "      <td>True</td>\n",
       "      <td>False</td>\n",
       "      <td>True</td>\n",
       "      <td>A/C/T</td>\n",
       "      <td>1</td>\n",
       "      <td>1</td>\n",
       "      <td>0</td>\n",
       "      <td>1</td>\n",
       "    </tr>\n",
       "    <tr>\n",
       "      <th>13</th>\n",
       "      <td>V</td>\n",
       "      <td>Not T</td>\n",
       "      <td>True</td>\n",
       "      <td>True</td>\n",
       "      <td>False</td>\n",
       "      <td>True</td>\n",
       "      <td>A/C/G</td>\n",
       "      <td>1</td>\n",
       "      <td>1</td>\n",
       "      <td>1</td>\n",
       "      <td>0</td>\n",
       "    </tr>\n",
       "    <tr>\n",
       "      <th>14</th>\n",
       "      <td>N</td>\n",
       "      <td>Any</td>\n",
       "      <td>True</td>\n",
       "      <td>True</td>\n",
       "      <td>False</td>\n",
       "      <td>True</td>\n",
       "      <td>A/C/G/T</td>\n",
       "      <td>1</td>\n",
       "      <td>1</td>\n",
       "      <td>1</td>\n",
       "      <td>1</td>\n",
       "    </tr>\n",
       "    <tr>\n",
       "      <th>15</th>\n",
       "      <td>U</td>\n",
       "      <td>Uracil</td>\n",
       "      <td>False</td>\n",
       "      <td>True</td>\n",
       "      <td>False</td>\n",
       "      <td>False</td>\n",
       "      <td>T</td>\n",
       "      <td>0</td>\n",
       "      <td>0</td>\n",
       "      <td>0</td>\n",
       "      <td>1</td>\n",
       "    </tr>\n",
       "    <tr>\n",
       "      <th>16</th>\n",
       "      <td>I</td>\n",
       "      <td>Inosine</td>\n",
       "      <td>False</td>\n",
       "      <td>True</td>\n",
       "      <td>True</td>\n",
       "      <td>False</td>\n",
       "      <td>G</td>\n",
       "      <td>0</td>\n",
       "      <td>0</td>\n",
       "      <td>1</td>\n",
       "      <td>0</td>\n",
       "    </tr>\n",
       "    <tr>\n",
       "      <th>17</th>\n",
       "      <td>.</td>\n",
       "      <td>Gap</td>\n",
       "      <td>True</td>\n",
       "      <td>True</td>\n",
       "      <td>True</td>\n",
       "      <td>True</td>\n",
       "      <td>./-</td>\n",
       "      <td>0</td>\n",
       "      <td>0</td>\n",
       "      <td>0</td>\n",
       "      <td>0</td>\n",
       "    </tr>\n",
       "    <tr>\n",
       "      <th>18</th>\n",
       "      <td>-</td>\n",
       "      <td>Gap</td>\n",
       "      <td>True</td>\n",
       "      <td>True</td>\n",
       "      <td>True</td>\n",
       "      <td>True</td>\n",
       "      <td>./-</td>\n",
       "      <td>0</td>\n",
       "      <td>0</td>\n",
       "      <td>0</td>\n",
       "      <td>0</td>\n",
       "    </tr>\n",
       "  </tbody>\n",
       "</table>\n",
       "</div>"
      ],
      "text/plain": [
       "   Code        Name    DNA    RNA  Special  Degenerate  Matches  A  C  G  T\n",
       "0     A     Adenine   True   True    False       False        A  1  0  0  0\n",
       "1     C    Cytosine   True   True    False       False        C  0  1  0  0\n",
       "2     G     Guanine   True   True    False       False        G  0  0  1  0\n",
       "3     T     Thymine   True  False    False       False        T  0  0  0  1\n",
       "4     W        Weak   True   True    False        True      A/T  1  0  0  1\n",
       "5     S      Strong   True   True    False        True      C/G  0  1  1  0\n",
       "6     M       Amino   True   True    False        True      A/C  1  1  0  0\n",
       "7     K        Keto   True   True    False        True      G/T  0  0  1  1\n",
       "8     R      Purine   True   True    False        True      A/G  1  0  1  0\n",
       "9     Y  Pyrimidine   True   True    False        True      C/T  0  1  0  1\n",
       "10    B       Not A   True   True    False        True    C/G/T  0  1  1  1\n",
       "11    D       Not C   True   True    False        True    A/G/T  1  0  1  1\n",
       "12    H       Not G   True   True    False        True    A/C/T  1  1  0  1\n",
       "13    V       Not T   True   True    False        True    A/C/G  1  1  1  0\n",
       "14    N         Any   True   True    False        True  A/C/G/T  1  1  1  1\n",
       "15    U      Uracil  False   True    False       False        T  0  0  0  1\n",
       "16    I     Inosine  False   True     True       False        G  0  0  1  0\n",
       "17    .         Gap   True   True     True        True      ./-  0  0  0  0\n",
       "18    -         Gap   True   True     True        True      ./-  0  0  0  0"
      ]
     },
     "execution_count": 2,
     "metadata": {},
     "output_type": "execute_result"
    }
   ],
   "source": [
    "n2m.encodings_df()"
   ]
  },
  {
   "cell_type": "markdown",
   "id": "472a64e4-a58b-4799-95cd-47a33de1dc48",
   "metadata": {},
   "source": [
    "# Example usage"
   ]
  },
  {
   "cell_type": "markdown",
   "id": "550fe4b5-ce70-4612-8f87-f07de817d27d",
   "metadata": {},
   "source": [
    "## Nucleotide code strings"
   ]
  },
  {
   "cell_type": "code",
   "execution_count": 3,
   "id": "6047c57c-ade4-4d1a-9ca9-54db0c04cec2",
   "metadata": {},
   "outputs": [],
   "source": [
    "example_dna_sequence = 'GATTACAN.'\n",
    "example_rna_sequence = 'GAUUACIN-'"
   ]
  },
  {
   "cell_type": "markdown",
   "id": "737314bf-4061-4f28-a71d-b0d89c272c04",
   "metadata": {},
   "source": [
    "## Conversion of DNA and RNA strings to matrices\n",
    "Matrices are \"tall\": Sequence length is the first dimension. They are numpy arrays of integers 1 or 0."
   ]
  },
  {
   "cell_type": "code",
   "execution_count": 4,
   "id": "ad641853-e082-4ea7-910a-32031b7e9302",
   "metadata": {},
   "outputs": [
    {
     "data": {
      "text/plain": [
       "array([[0, 0, 1, 0],\n",
       "       [1, 0, 0, 0],\n",
       "       [0, 0, 0, 1],\n",
       "       [0, 0, 0, 1],\n",
       "       [1, 0, 0, 0],\n",
       "       [0, 1, 0, 0],\n",
       "       [1, 0, 0, 0],\n",
       "       [1, 1, 1, 1],\n",
       "       [0, 0, 0, 0]])"
      ]
     },
     "execution_count": 4,
     "metadata": {},
     "output_type": "execute_result"
    }
   ],
   "source": [
    "dna_matrix = n2m.sequence_to_matrix(example_dna_sequence)\n",
    "dna_matrix"
   ]
  },
  {
   "cell_type": "code",
   "execution_count": 5,
   "id": "65331928-c122-4862-b7dd-d54ad8522738",
   "metadata": {},
   "outputs": [
    {
     "data": {
      "text/plain": [
       "array([[0, 0, 1, 0],\n",
       "       [1, 0, 0, 0],\n",
       "       [0, 0, 0, 1],\n",
       "       [0, 0, 0, 1],\n",
       "       [1, 0, 0, 0],\n",
       "       [0, 1, 0, 0],\n",
       "       [0, 0, 1, 0],\n",
       "       [1, 1, 1, 1],\n",
       "       [0, 0, 0, 0]])"
      ]
     },
     "execution_count": 5,
     "metadata": {},
     "output_type": "execute_result"
    }
   ],
   "source": [
    "rna_matrix = n2m.sequence_to_matrix(example_rna_sequence)\n",
    "rna_matrix"
   ]
  },
  {
   "cell_type": "markdown",
   "id": "94bea1ad-80b7-4855-a15d-d781b63fdee8",
   "metadata": {},
   "source": [
    "## Conversion of sequences back into matrices"
   ]
  },
  {
   "cell_type": "code",
   "execution_count": 6,
   "id": "56966bfa-e5c0-4dff-97b0-664704b44b53",
   "metadata": {},
   "outputs": [
    {
     "data": {
      "text/plain": [
       "'GATTACAN.'"
      ]
     },
     "execution_count": 6,
     "metadata": {},
     "output_type": "execute_result"
    }
   ],
   "source": [
    "dna_sequence = n2m.matrix_to_sequence(dna_matrix)\n",
    "dna_sequence"
   ]
  },
  {
   "cell_type": "code",
   "execution_count": 7,
   "id": "7c3593c0-fc01-43fa-bf32-1081873fd4de",
   "metadata": {},
   "outputs": [
    {
     "data": {
      "text/plain": [
       "'GAUUACGN.'"
      ]
     },
     "execution_count": 7,
     "metadata": {},
     "output_type": "execute_result"
    }
   ],
   "source": [
    "rna_sequence = n2m.matrix_to_sequence(rna_matrix, type = 'rna')\n",
    "rna_sequence"
   ]
  },
  {
   "cell_type": "code",
   "execution_count": 8,
   "id": "f07e2c15-674b-4685-8c4d-abcef1f37ed0",
   "metadata": {},
   "outputs": [
    {
     "data": {
      "text/plain": [
       "'.NUGUAAUC'"
      ]
     },
     "execution_count": 8,
     "metadata": {},
     "output_type": "execute_result"
    }
   ],
   "source": [
    "n2m.matrix_to_sequence(n2m.sequence_to_matrix(example_dna_sequence)[::-1,::-1], type = 'rna')"
   ]
  },
  {
   "cell_type": "markdown",
   "id": "5ce0796f-03a1-4fbd-83bb-90ec6c1c3aae",
   "metadata": {},
   "source": [
    "## Reverse complementation\n",
    "Reverse complements are found by inverting axes of the encoded matrices."
   ]
  },
  {
   "cell_type": "code",
   "execution_count": 9,
   "id": "de4249ef-6d60-40c4-8e70-542db1179015",
   "metadata": {},
   "outputs": [
    {
     "data": {
      "text/plain": [
       "array([[0, 0, 0, 0],\n",
       "       [1, 1, 1, 1],\n",
       "       [0, 0, 0, 1],\n",
       "       [0, 0, 1, 0],\n",
       "       [0, 0, 0, 1],\n",
       "       [1, 0, 0, 0],\n",
       "       [1, 0, 0, 0],\n",
       "       [0, 0, 0, 1],\n",
       "       [0, 1, 0, 0]])"
      ]
     },
     "execution_count": 9,
     "metadata": {},
     "output_type": "execute_result"
    }
   ],
   "source": [
    "rc_dna_matrix = dna_matrix[::-1,::-1]\n",
    "rc_dna_matrix"
   ]
  },
  {
   "cell_type": "code",
   "execution_count": 10,
   "id": "889ee904-f7ad-4366-86dd-724bf9e10bf1",
   "metadata": {},
   "outputs": [
    {
     "data": {
      "text/plain": [
       "'.NUGUAAUC'"
      ]
     },
     "execution_count": 10,
     "metadata": {},
     "output_type": "execute_result"
    }
   ],
   "source": [
    "rc_sequence = n2m.matrix_to_sequence(rc_dna_matrix, type = 'rna')\n",
    "rc_sequence"
   ]
  }
 ],
 "metadata": {
  "kernelspec": {
   "display_name": "Python 3",
   "language": "python",
   "name": "python3"
  },
  "language_info": {
   "codemirror_mode": {
    "name": "ipython",
    "version": 3
   },
   "file_extension": ".py",
   "mimetype": "text/x-python",
   "name": "python",
   "nbconvert_exporter": "python",
   "pygments_lexer": "ipython3",
   "version": "3.6.12"
  }
 },
 "nbformat": 4,
 "nbformat_minor": 5
}
